{
 "cells": [
  {
   "cell_type": "markdown",
   "id": "93d44cd6",
   "metadata": {},
   "source": [
    "# Task 06 👨🏻‍💻\t\n",
    "\t\t\n",
    "# Team Task\n",
    "\n",
    "# Task Description 📄\n",
    "\n",
    "# 📌 When it recognize your face then - \n",
    "\n",
    "# 👉 It send mail to your mail id by writing this is face of your_name. \n",
    "\n",
    "# 👉 Second it send whatsapp message to your friend, it can be anything. \n",
    "\n",
    "# 👉 Create EC2 instance in the AWS using CLI. \n",
    "\n",
    "# 👉 Create 5 GB EBS volume and attach it to the instance. \n"
   ]
  },
  {
   "cell_type": "markdown",
   "id": "a36c52f0",
   "metadata": {},
   "source": [
    "# Importing Libraries"
   ]
  },
  {
   "cell_type": "code",
   "execution_count": null,
   "id": "5c6a80a8",
   "metadata": {},
   "outputs": [],
   "source": [
    "import cv2\n",
    "import os\n",
    "import numpy as np\n",
    "from os import listdir\n",
    "from os.path import isfile,join"
   ]
  },
  {
   "cell_type": "markdown",
   "id": "3ec16222",
   "metadata": {},
   "source": [
    "# Step 1 - Create Training Data"
   ]
  },
  {
   "cell_type": "code",
   "execution_count": null,
   "id": "2b535634",
   "metadata": {
    "scrolled": true
   },
   "outputs": [],
   "source": [
    "import cv2\n",
    "cap = cv2.VideoCapture(0)\n",
    "model=cv2.CascadeClassifier(\"haarcascade_frontalface_default.xml\")\n",
    "i=0\n",
    "while True:\n",
    "    get,images=cap.read()\n",
    "    face = model.detectMultiScale(images)\n",
    "    try:\n",
    "        if len(face) !=0 and i<100:\n",
    "            x1=face[0][0]\n",
    "            y1=face[0][1]\n",
    "            x2=x1+face[0][2]\n",
    "            y2=y1+face[0][3]\n",
    "            image = images[x1:y2,y1:x2]  \n",
    "            face = cv2.cvtColor(image,cv2.COLOR_BGR2GRAY)\n",
    "            face = cv2.resize(face, (200,200))\n",
    "            cv2.imwrite(\"avi/{}.jpg\".format(i),face)\n",
    "            cv2.putText(face, str(i), (50, 50), cv2.FONT_HERSHEY_COMPLEX, 1, (0,255,0), 2)\n",
    "            cv2.imshow(\"face\",face)\n",
    "            i+=1\n",
    "            if cv2.waitKey(10) == 13:\n",
    "                break\n",
    "        elif i == 100:\n",
    "            cv2.imshow(\"face\",images)\n",
    "            break\n",
    "    except:\n",
    "        print(\"no face found\")\n",
    "        pass\n",
    "    \n",
    "cv2.destroyAllWindows()\n",
    "cap.release()\n",
    "print(\"Collecting Samples Complete\")"
   ]
  },
  {
   "cell_type": "markdown",
   "id": "d8c771c3",
   "metadata": {},
   "source": [
    "# Step 2 - Train Model"
   ]
  },
  {
   "cell_type": "code",
   "execution_count": null,
   "id": "90fecead",
   "metadata": {},
   "outputs": [],
   "source": [
    "path = \"./avi/\"\n",
    "list_images = [f for f in listdir(path) if isfile(join(path,f))]\n",
    "train_data , label = [],[]\n",
    "for i,file in enumerate(list_images):\n",
    "    image_path = path + file\n",
    "    image = cv2.imread(image_path, cv2.IMREAD_GRAYSCALE)\n",
    "    train_data.append(np.asarray(image,dtype=np.uint8))\n",
    "    label.append(i)\n",
    "labels = np.asarray(label,dtype=np.int32)\n",
    "avi_model = cv2.face_LBPHFaceRecognizer.create()\n",
    "avi_model.train(np.asarray(train_data),labels)\n",
    "print(\"Model trained sucessefully\")"
   ]
  },
  {
   "cell_type": "markdown",
   "id": "f18f9f47",
   "metadata": {},
   "source": [
    "# Step 3 - Run Our Facial Recognition"
   ]
  },
  {
   "cell_type": "code",
   "execution_count": null,
   "id": "84342cd9",
   "metadata": {},
   "outputs": [],
   "source": [
    "cap = cv2.VideoCapture(0)\n",
    "model=cv2.CascadeClassifier(\"haarcascade_frontalface_default.xml\")\n",
    "while True:\n",
    "    get,image=cap.read()\n",
    "    face = model.detectMultiScale(image)\n",
    "    try:\n",
    "        if len(face) !=0:\n",
    "            x1=face[0][0]\n",
    "            y1=face[0][1]\n",
    "            x2=x1+face[0][2]\n",
    "            y2=y1+face[0][3]\n",
    "            img = image[x1:y2,y1:x2]  \n",
    "            img = cv2.resize(img, (200,200))\n",
    "            faces = cv2.cvtColor(img, cv2.COLOR_BGR2GRAY)\n",
    "            result = avi_model.predict(faces)\n",
    "            if result[1] < 500:\n",
    "                confidence = int( 100 * (1 - (result[1])/400) )\n",
    "                display_string = str(confidence) + '% Confident it is avi'\n",
    "            cv2.putText(image, display_string, (100, 120), cv2.FONT_HERSHEY_COMPLEX, 1, (255,120,150), 2)\n",
    "            if confidence > 90:\n",
    "                cv2.putText(image, \"Hey avi\", (250, 450), cv2.FONT_HERSHEY_COMPLEX, 1, (0,255,0), 2)\n",
    "                image = cv2.rectangle(image,(x1,y1),(x2,y2),[0,255,0],5)\n",
    "                cv2.imshow('Face Recognition',image )\n",
    "                mail()\n",
    "                whtspp()\n",
    "                terraform()\n",
    "                break\n",
    "            else:\n",
    "                cv2.putText(image, \"I dont know, how r u\", (250, 450), cv2.FONT_HERSHEY_COMPLEX, 1, (0,0,255), 2)\n",
    "                cv2.imshow('Face Recognition', image )\n",
    "        else:\n",
    "            cv2.putText(image, \"No Face Found\", (220, 120) , cv2.FONT_HERSHEY_COMPLEX, 1, (0,0,255), 2)\n",
    "            cv2.putText(image, \"looking for face\", (250, 450), cv2.FONT_HERSHEY_COMPLEX, 1, (0,0,255), 2)\n",
    "            cv2.imshow('Face Recognition', image )\n",
    "    except:\n",
    "        pass\n",
    "    if cv2.waitKey(1) == 13:\n",
    "        break\n",
    "    \n",
    "cv2.destroyAllWindows()\n",
    "cap.release()"
   ]
  },
  {
   "cell_type": "markdown",
   "id": "e2bcd650",
   "metadata": {},
   "source": [
    "# it send whatsapp message to your friend "
   ]
  },
  {
   "cell_type": "code",
   "execution_count": null,
   "id": "7bdbfcd2",
   "metadata": {},
   "outputs": [],
   "source": [
    "def whtspp():\n",
    "    import pywhatkit \n",
    "    number = \"45666777889\"\n",
    "    pywhatkit.sendwhatmsg_instantly(\"+91234567876\", \"Helloo!!, Task 6 Successfully Completed...😍\")\n",
    "    print(\"\\t\\t\\t\\n======================= Message Successfully Sended ==================================\\n\")"
   ]
  },
  {
   "cell_type": "markdown",
   "id": "2df6e530",
   "metadata": {},
   "source": [
    "#  It send mail to your mail id"
   ]
  },
  {
   "cell_type": "code",
   "execution_count": null,
   "id": "d07ec23a",
   "metadata": {},
   "outputs": [],
   "source": [
    "def mail():\n",
    "    import smtplib\n",
    "    import imghdr\n",
    "    from email.message import EmailMessage\n",
    "  \n",
    "    Sender_Email = \"xyz@gmail.com\"\n",
    "  \n",
    "    Reciever_Email = \"xyz@poornima.edu.in\"\n",
    "\n",
    "    \n",
    "    newMessage = EmailMessage()                         \n",
    "    newMessage['Subject'] = \"Alert Message.\" \n",
    "    newMessage['From'] = Sender_Email                   \n",
    "    newMessage['To'] = Reciever_Email                   \n",
    "    newMessage.set_content('security alert face detecd. Someone is trying to use your system please check the face..') \n",
    "\n",
    "    with open('./avi/50.jpg', 'rb') as f:\n",
    "        image_data = f.read()\n",
    "        image_type = imghdr.what(f.name)\n",
    "        image_name = f.name\n",
    "\n",
    "    newMessage.add_attachment(image_data, maintype='image', subtype=image_type, filename=image_name)\n",
    "\n",
    "    with smtplib.SMTP_SSL('smtp.gmail.com', 465) as smtp:\n",
    "\n",
    "        smtp.login(Sender_Email, Password)              \n",
    "        smtp.send_message(newMessage) \n",
    "\n",
    "    print(\"\\t\\t\\t\\n======================= Mail Successfully Sended ==================================\\n\")"
   ]
  },
  {
   "cell_type": "markdown",
   "id": "a9ee278e",
   "metadata": {},
   "source": [
    "# Create EC2 instance in the AWS using CLI. \n",
    "# Create 5 GB EBS volume and attach it to the instance. "
   ]
  },
  {
   "cell_type": "code",
   "execution_count": null,
   "id": "e107dd48",
   "metadata": {},
   "outputs": [],
   "source": [
    "def terraform():\n",
    "    os.system(\"terraform init\")    \n",
    "    os.system(\"terraform apply --auto-approve\")"
   ]
  },
  {
   "cell_type": "code",
   "execution_count": null,
   "id": "4d400739",
   "metadata": {},
   "outputs": [],
   "source": []
  }
 ],
 "metadata": {
  "kernelspec": {
   "display_name": "Python 3",
   "language": "python",
   "name": "python3"
  },
  "language_info": {
   "codemirror_mode": {
    "name": "ipython",
    "version": 3
   },
   "file_extension": ".py",
   "mimetype": "text/x-python",
   "name": "python",
   "nbconvert_exporter": "python",
   "pygments_lexer": "ipython3",
   "version": "3.7.10"
  }
 },
 "nbformat": 4,
 "nbformat_minor": 5
}
